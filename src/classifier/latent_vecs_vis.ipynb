{
 "cells": [
  {
   "cell_type": "markdown",
   "metadata": {},
   "source": [
    "[![Open In Colab](https://colab.research.google.com/assets/colab-badge.svg)](https://colab.research.google.com/github/mlexchange/als_ml_tutorial/blob/main/3_4_ML_tutorial_CNN.ipynb)"
   ]
  },
  {
   "cell_type": "markdown",
   "metadata": {},
   "source": [
    "# 1. Pretrain an encoder to convert images to latent vectors\n",
    "## Set environment and load model"
   ]
  },
  {
   "cell_type": "code",
   "execution_count": null,
   "metadata": {},
   "outputs": [],
   "source": [
    "import torch\n",
    "\n",
    "device = torch.device(\"cuda:1\") if torch.cuda.is_available() else torch.device(\"cpu\")\n",
    "print(\"Device:\", device)"
   ]
  },
  {
   "cell_type": "code",
   "execution_count": null,
   "metadata": {},
   "outputs": [],
   "source": [
    "#from torchsummary import summary\n",
    "from model_utils import cnnAutoencoder\n",
    "\n",
    "auto_cnn = cnnAutoencoder(input_shape=(3, 64, 64), latent_dim=1000)\n",
    "auto_cnn.to(device)\n",
    "\n",
    "print(auto_cnn)"
   ]
  },
  {
   "cell_type": "markdown",
   "metadata": {},
   "source": [
    "## Data Preparation\n",
    "\n"
   ]
  },
  {
   "cell_type": "code",
   "execution_count": null,
   "metadata": {},
   "outputs": [],
   "source": [
    "import model_utils\n",
    "from torch.utils.data import DataLoader, random_split\n",
    "from torchvision import transforms\n",
    "\n",
    "\n",
    "data_directory = '/lovelace/zhuowen/diffusers/als/discriminator_data/data/00000000'\n",
    "input_size = 64\n",
    "data_transform=transforms.Compose([transforms.Resize(input_size),\n",
    "                              transforms.CenterCrop(input_size),\n",
    "                              transforms.ToTensor(),\n",
    "                              transforms.Normalize((0.5, 0.5, 0.5), (0.5, 0.5, 0.5))\n",
    "                             ])\n",
    "dataset = model_utils.myDataset(data_directory, transform=data_transform)\n",
    "\n",
    "# Split the dataset into training and validation\n",
    "train_size = int(0.8 * len(dataset))\n",
    "val_size = len(dataset) - train_size\n",
    "train_dataset, val_dataset = random_split(dataset, [train_size, val_size])\n",
    "\n",
    "train_loader = DataLoader(train_dataset, batch_size=16, shuffle=True)\n",
    "val_loader = DataLoader(val_dataset, batch_size=16, shuffle=False)\n",
    "print(len(train_loader), len(val_loader))"
   ]
  },
  {
   "cell_type": "markdown",
   "metadata": {},
   "source": [
    "## Training the encoder"
   ]
  },
  {
   "cell_type": "code",
   "execution_count": null,
   "metadata": {},
   "outputs": [],
   "source": [
    "from torch.nn import MSELoss\n",
    "from torch.optim import AdamW\n",
    "from tqdm import tqdm\n",
    "\n",
    "# Training parameters\n",
    "criterion = MSELoss()\n",
    "optimizer = AdamW(auto_cnn.parameters(), lr=0.001)   #0.005\n",
    "num_epochs = 5     #20\n",
    "\n",
    "epoch_loss = []\n",
    "epoch_val_loss = []\n",
    "for epoch in range(num_epochs):\n",
    "    auto_cnn.train()                        # Set the model to training mode\n",
    "    for input_batch, labels in tqdm(train_loader):\n",
    "        optimizer.zero_grad()               # Zero the gradients\n",
    "        out_batch = auto_cnn(input_batch.to(device))          # Forward pass\n",
    "        loss = criterion(out_batch, input_batch.to(device))   # Compute loss\n",
    "        loss.backward()                     # Backpropagation\n",
    "        optimizer.step()                    # Update weights\n",
    "    # auto_cnn.eval()\n",
    "    val_loss = 0.0\n",
    "    with torch.no_grad():                   # Validation\n",
    "        for val_batch, labels in tqdm(val_loader):\n",
    "            out_val_batch = auto_cnn(val_batch.to(device))\n",
    "            val_batch_loss = criterion(out_val_batch, val_batch.to(device))\n",
    "            val_loss += val_batch_loss.item()\n",
    "    avg_val_loss = val_loss / len(val_loader)\n",
    "    epoch_loss.append(loss.detach().cpu().numpy())\n",
    "    epoch_val_loss.append(avg_val_loss)\n",
    "    if (epoch + 1) % 10 == 0:\n",
    "        print(f'Epoch [{epoch+1}/{num_epochs}], Loss: {loss.item():.6f}, Validation Loss: {avg_val_loss:.6f}')\n",
    "\n",
    "# Save model\n",
    "torch.save(auto_cnn.state_dict(), 'cnn_autoencoder.pth')"
   ]
  },
  {
   "cell_type": "markdown",
   "metadata": {},
   "source": [
    "## Loss plot"
   ]
  },
  {
   "cell_type": "code",
   "execution_count": null,
   "metadata": {},
   "outputs": [],
   "source": [
    "import matplotlib.pyplot as plt\n",
    "\n",
    "plt.plot(epoch_loss)\n",
    "plt.plot(epoch_val_loss)\n",
    "plt.legend([\"Loss\", \"Validation Loss\"])\n",
    "plt.grid()"
   ]
  },
  {
   "cell_type": "markdown",
   "metadata": {},
   "source": [
    "## Evaluate the encoder and visualization"
   ]
  },
  {
   "cell_type": "code",
   "execution_count": null,
   "metadata": {},
   "outputs": [],
   "source": [
    "import numpy as np\n",
    "import random\n",
    "\n",
    "out_val = []\n",
    "with torch.no_grad(): \n",
    "    for batch, labels in tqdm(val_loader):\n",
    "        reconstructed_batch = auto_cnn(batch.to(device))\n",
    "        out_val.append(reconstructed_batch.detach().cpu().numpy())\n",
    "reconstructed_set = np.vstack(out_val)"
   ]
  },
  {
   "cell_type": "code",
   "execution_count": null,
   "metadata": {},
   "outputs": [],
   "source": [
    "# drop the last batch and labels\n",
    "val_image_set = [v for v, l in list(val_loader)[:-1]]\n",
    "val_set = np.vstack(val_image_set)\n",
    "\n",
    "# # Randomly selectes 5 images from the validation set\n",
    "indxs = random.sample(range(len(reconstructed_set)), 5)\n",
    "\n",
    "fig, axs = plt.subplots(2, 5, figsize=(10,4))\n",
    "for i in range(5):\n",
    "    original_img = val_set[indxs[i]][0,:]\n",
    "    reconstructed_img = reconstructed_set[indxs[i]][0,:]\n",
    "    axs[0, i].imshow(np.squeeze(original_img))\n",
    "    axs[0, i].axis('off')\n",
    "    axs[1, i].imshow(np.squeeze(reconstructed_img))\n",
    "    axs[1, i].axis('off')\n",
    "plt.subplots_adjust(wspace=0.3, hspace=0.2)"
   ]
  },
  {
   "cell_type": "markdown",
   "metadata": {},
   "source": [
    "# 2.Explore and visualize the latent space with UMAP"
   ]
  },
  {
   "cell_type": "code",
   "execution_count": null,
   "metadata": {},
   "outputs": [],
   "source": [
    "# Load the trained model if needed\n",
    "import torch\n",
    "auto_cnn = cnnAutoencoder(input_shape=(3, 64, 64), latent_dim=1000)\n",
    "auto_cnn.load_state_dict(torch.load('cnn_autoencoder.pth'))\n",
    "auto_cnn.eval()\n",
    "auto_cnn.to(device)\n",
    "\n",
    "f_vec = []\n",
    "with torch.no_grad(): \n",
    "    for batch, labels in val_loader:\n",
    "        batch_f_vec = auto_cnn.encoder(batch.to(device))\n",
    "        f_vec.append(batch_f_vec.detach().cpu().numpy())\n",
    "f_vec = np.vstack(f_vec)\n",
    "\n",
    "f_vec.shape"
   ]
  },
  {
   "cell_type": "markdown",
   "metadata": {},
   "source": [
    "## 2.1 Visualize the experimental dataset"
   ]
  },
  {
   "cell_type": "code",
   "execution_count": null,
   "metadata": {},
   "outputs": [],
   "source": [
    "import umap\n",
    "from matplotlib.offsetbox import OffsetImage, AnnotationBbox\n",
    "\n",
    "def perform_umap(f_vec, n_neighbors=None, min_dist=None, random_state=None):\n",
    "    # Perform U-MAP\n",
    "    if n_neighbors is None and min_dist is None:\n",
    "        umap_model = umap.UMAP(n_components=2, \n",
    "                               random_state=random_state)\n",
    "    else:\n",
    "        umap_model = umap.UMAP(n_components=2, \n",
    "                               n_neighbors=n_neighbors,\n",
    "                               min_dist=min_dist,\n",
    "                               random_state=random_state)\n",
    "    umap_result = umap_model.fit_transform(f_vec)\n",
    "    return umap_result\n",
    "\n",
    "def plot_reduction(reduced_data, original_data, groups=None, category=None, zoom=0.35, savefig=False, outname=None):\n",
    "    \"\"\" This function plots the dimensionally reduced data.\"\"\"\n",
    "    \n",
    "    if 'pca' in category.lower():\n",
    "        title = 'PCA Results'; xtitle = 'Principal Component 1'; ytitle = 'Principal Component 2'\n",
    "    elif ('umap' in category.lower()) or ('u-map' in category.lower()):\n",
    "        title = 'U-Map Results'; xtitle = 'U-Map Dimension 1'; ytitle = 'U-Map Dimension 2'\n",
    "    else:\n",
    "        title = 'Dimensionality Reduction Results'; xtitle = 'Reduced Dimension 1'; ytitle = 'Reduced Dimension 2'\n",
    "    \n",
    "    plt.figure(figsize=(10, 12))\n",
    "    plt.rcParams.update({'font.size': 14})\n",
    "    \n",
    "    # Plot 2d reduction\n",
    "    plt.subplot(2,1,1)\n",
    "    if not groups:\n",
    "        plt.scatter(reduced_data[:, 0], reduced_data[:, 1], alpha=0.5)\n",
    "    else:\n",
    "        # group colors\n",
    "        cs = ['y','r', 'g', 'b']\n",
    "        colors = [cs[i] for i in groups]\n",
    "        plt.scatter(reduced_data[:, 0], reduced_data[:, 1], alpha=0.5, c=colors)\n",
    "        plt.legend(['exp', 'generated_unreal', 'generated_real', 'train_set'])\n",
    "        \n",
    "    plt.title(title); plt.xlabel(xtitle); plt.ylabel(ytitle)\n",
    "    plt.grid(True)\n",
    "\n",
    "    # Plot 2d reduction with original images\n",
    "    plt.subplot(2,1,2)\n",
    "    scatter = plt.scatter(reduced_data[:, 0], reduced_data[:, 1], marker='o', s=30, c='b')\n",
    "    \n",
    "    for i in range(len(reduced_data)):\n",
    "        if original_data[i].shape[0] > 1:\n",
    "            orig_im = original_data[i][0,:]\n",
    "        else:\n",
    "            orig_im = original_data[i]\n",
    "            \n",
    "        imagebox = OffsetImage(orig_im, zoom=zoom)  # Adjust the zoom factor as needed\n",
    "        ab = AnnotationBbox(imagebox, (reduced_data[i, 0], reduced_data[i, 1]), frameon=False)\n",
    "        plt.gca().add_artist(ab)\n",
    "\n",
    "    plt.title('Original Images Embedded')\n",
    "    plt.xlabel(xtitle); plt.ylabel(ytitle); plt.title(title + ' with Original Images')\n",
    "    plt.grid(True)\n",
    "\n",
    "    plt.tight_layout()\n",
    "    if savefig:\n",
    "        plt.savefig(outname)\n",
    "    plt.show()\n",
    "    \n",
    "    \n",
    "    pass"
   ]
  },
  {
   "cell_type": "code",
   "execution_count": null,
   "metadata": {},
   "outputs": [],
   "source": [
    "umap_features = perform_umap(f_vec, n_neighbors=5, min_dist=0.5)\n",
    "\n",
    "plot_reduction(umap_features, np.squeeze(val_set), category='umap', zoom=0.4)"
   ]
  },
  {
   "cell_type": "markdown",
   "metadata": {},
   "source": [
    "## 2.2 Visualize the latent vectors classified as realistic"
   ]
  },
  {
   "cell_type": "code",
   "execution_count": null,
   "metadata": {},
   "outputs": [],
   "source": [
    "dataset_real = model_utils.myDataset('/lovelace/zhuowen/diffusers/als/40k_generated/als_2400_labeled/real', transform=data_transform)\n",
    "\n",
    "# Split the dataset into training and validation\n",
    "train_size = int(0.8 * len(dataset_real))\n",
    "val_size = len(dataset_real) - train_size\n",
    "train_dataset_real, val_dataset_real = random_split(dataset_real, [train_size, val_size])\n",
    "val_loader_real = DataLoader(val_dataset_real, batch_size=16, shuffle=False)\n",
    "\n",
    "\n",
    "f_vec = []\n",
    "with torch.no_grad(): \n",
    "    for batch, labels in val_loader_real:\n",
    "        batch_f_vec = auto_cnn.encoder(batch.to(device))\n",
    "        f_vec.append(batch_f_vec.detach().cpu().numpy())\n",
    "f_vec = np.vstack(f_vec)\n",
    "\n",
    "f_vec.shape\n",
    "\n",
    "umap_features = perform_umap(f_vec, n_neighbors=5, min_dist=0.5)\n",
    "val_set_real = np.vstack(list(iter(val_loader_real)))\n",
    "plot_reduction(umap_features, np.squeeze(val_set_real), category='umap', zoom=0.4)\n"
   ]
  },
  {
   "cell_type": "markdown",
   "metadata": {},
   "source": [
    "## 2.3 Visualize the latent vectors classified as fake"
   ]
  },
  {
   "cell_type": "code",
   "execution_count": null,
   "metadata": {},
   "outputs": [],
   "source": [
    "dataset_fake = model_utils.myDataset('/lovelace/zhuowen/diffusers/als/40k_generated/als_2400_labeled/fake', transform=data_transform)\n",
    "\n",
    "# Split the dataset into training and validation\n",
    "train_size = int(0.8 * len(dataset_fake))\n",
    "val_size = len(dataset_fake) - train_size\n",
    "train_dataset_fake, val_dataset_fake = random_split(dataset_fake, [train_size, val_size])\n",
    "val_loader_fake = DataLoader(val_dataset_fake, batch_size=16, shuffle=False)\n",
    "\n",
    "f_vec = []\n",
    "with torch.no_grad(): \n",
    "    for batch in val_loader_fake:\n",
    "        batch_f_vec = auto_cnn.encoder(batch.to(device))\n",
    "        f_vec.append(batch_f_vec.detach().cpu().numpy())\n",
    "f_vec = np.vstack(f_vec)\n",
    "\n",
    "f_vec.shape\n",
    "\n",
    "umap_features = perform_umap(f_vec, n_neighbors=5, min_dist=0.5)\n",
    "val_set_fake = np.vstack(list(iter(val_loader_fake)))\n",
    "plot_reduction(umap_features, np.squeeze(val_set_fake), category='umap', zoom=0.4)"
   ]
  },
  {
   "cell_type": "markdown",
   "metadata": {},
   "source": [
    "## 2.4 Visualize latent vectors of exp and generated images"
   ]
  },
  {
   "cell_type": "code",
   "execution_count": null,
   "metadata": {},
   "outputs": [],
   "source": [
    "import torchvision.datasets as dset\n",
    "\n",
    "# sorted paths, alphabetic order\n",
    "mix_datasets = dset.ImageFolder(root=\"/lovelace/zhuowen/diffusers/als/latent_vis\", transform=data_transform)\n",
    "val_loader_mix = DataLoader(mix_datasets, batch_size=16, shuffle=False)\n",
    "\n",
    "f_vec = []\n",
    "groups = []\n",
    "val_set_mix = []\n",
    "with torch.no_grad(): \n",
    "    for batch, gs in val_loader_mix:\n",
    "        batch_f_vec = auto_cnn.encoder(batch.to(device))\n",
    "        f_vec.append(batch_f_vec.detach().cpu().numpy())\n",
    "        groups.extend(gs)\n",
    "        val_set_mix.append(batch)\n",
    "        \n",
    "f_vec = np.vstack(f_vec)\n",
    "val_set_mix = np.vstack(val_set_mix)\n",
    "\n",
    "print(val_set_mix.shape)\n",
    "print(f_vec.shape)\n",
    "print(len(groups))\n"
   ]
  },
  {
   "cell_type": "code",
   "execution_count": null,
   "metadata": {},
   "outputs": [],
   "source": [
    "umap_features = perform_umap(f_vec, n_neighbors=5, min_dist=0.5)\n",
    "plot_reduction(umap_features, np.squeeze(val_set_mix), groups=groups, category='umap', zoom=0.4, savefig=True, outname='latent_space_mix.png')"
   ]
  }
 ],
 "metadata": {
  "kernelspec": {
   "display_name": "Python 3 (ipykernel)",
   "language": "python",
   "name": "python3"
  },
  "language_info": {
   "codemirror_mode": {
    "name": "ipython",
    "version": 3
   },
   "file_extension": ".py",
   "mimetype": "text/x-python",
   "name": "python",
   "nbconvert_exporter": "python",
   "pygments_lexer": "ipython3",
   "version": "3.12.3"
  }
 },
 "nbformat": 4,
 "nbformat_minor": 4
}
